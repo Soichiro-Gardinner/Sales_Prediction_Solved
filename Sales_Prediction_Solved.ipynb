{
  "nbformat": 4,
  "nbformat_minor": 0,
  "metadata": {
    "colab": {
      "provenance": [],
      "authorship_tag": "ABX9TyOMuvwVO3ehhYGo636Drp8x",
      "include_colab_link": true
    },
    "kernelspec": {
      "name": "python3",
      "display_name": "Python 3"
    },
    "language_info": {
      "name": "python"
    }
  },
  "cells": [
    {
      "cell_type": "markdown",
      "metadata": {
        "id": "view-in-github",
        "colab_type": "text"
      },
      "source": [
        "<a href=\"https://colab.research.google.com/github/Soichiro-Gardinner/Sales_Prediction_Solved/blob/main/Sales_Prediction_Solved.ipynb\" target=\"_parent\"><img src=\"https://colab.research.google.com/assets/colab-badge.svg\" alt=\"Open In Colab\"/></a>"
      ]
    },
    {
      "cell_type": "markdown",
      "source": [
        "# **_ _ Sales Prediction_ _**\n",
        "\n",
        "- **By:** Oscar Castanaza\n",
        "- **Date:** 4/13/2023"
      ],
      "metadata": {
        "id": "UYo6PJl7oTF_"
      }
    },
    {
      "cell_type": "markdown",
      "source": [
        "# **Import Libs & Read Data:**"
      ],
      "metadata": {
        "id": "-QWhL_pGa6Cr"
      }
    },
    {
      "cell_type": "code",
      "execution_count": null,
      "metadata": {
        "colab": {
          "base_uri": "https://localhost:8080/"
        },
        "id": "61Enk3yraijs",
        "outputId": "bebc0f79-9379-48ca-d514-7f288d4f4aa6"
      },
      "outputs": [
        {
          "output_type": "stream",
          "name": "stdout",
          "text": [
            "  Item_Identifier  Item_Weight Item_Fat_Content  Item_Visibility  \\\n",
            "0           FDA15         9.30          Low Fat         0.016047   \n",
            "1           DRC01         5.92          Regular         0.019278   \n",
            "2           FDN15        17.50          Low Fat         0.016760   \n",
            "3           FDX07        19.20          Regular         0.000000   \n",
            "4           NCD19         8.93          Low Fat         0.000000   \n",
            "\n",
            "               Item_Type  Item_MRP Outlet_Identifier  \\\n",
            "0                  Dairy  249.8092            OUT049   \n",
            "1            Soft Drinks   48.2692            OUT018   \n",
            "2                   Meat  141.6180            OUT049   \n",
            "3  Fruits and Vegetables  182.0950            OUT010   \n",
            "4              Household   53.8614            OUT013   \n",
            "\n",
            "   Outlet_Establishment_Year Outlet_Size Outlet_Location_Type  \\\n",
            "0                       1999      Medium               Tier 1   \n",
            "1                       2009      Medium               Tier 3   \n",
            "2                       1999      Medium               Tier 1   \n",
            "3                       1998         NaN               Tier 3   \n",
            "4                       1987        High               Tier 3   \n",
            "\n",
            "         Outlet_Type  Item_Outlet_Sales  \n",
            "0  Supermarket Type1          3735.1380  \n",
            "1  Supermarket Type2           443.4228  \n",
            "2  Supermarket Type1          2097.2700  \n",
            "3      Grocery Store           732.3800  \n",
            "4  Supermarket Type1           994.7052  \n"
          ]
        }
      ],
      "source": [
        "import pandas as pd\n",
        "\n",
        "# read in the data from CSV file\n",
        "df = pd.read_csv('https://drive.google.com/uc?id=1syH81TVrbBsdymLT_jl2JIf6IjPXtSQw')\n",
        "\n",
        "# display the first 5 rows\n",
        "print(df.head())"
      ]
    },
    {
      "cell_type": "markdown",
      "source": [
        "- **<font color='#ffd966'>Duplicates:</font>**"
      ],
      "metadata": {
        "id": "VhpisnYDbKcK"
      }
    },
    {
      "cell_type": "code",
      "source": [
        "print(df.duplicated().sum())"
      ],
      "metadata": {
        "colab": {
          "base_uri": "https://localhost:8080/"
        },
        "id": "VkV9FHD5bJIk",
        "outputId": "d485144c-7d00-4f82-d83e-45034ec38de6"
      },
      "execution_count": null,
      "outputs": [
        {
          "output_type": "stream",
          "name": "stdout",
          "text": [
            "0\n"
          ]
        }
      ]
    },
    {
      "cell_type": "markdown",
      "source": [
        "- **<font color='#ffd966'>Inconcistencies:</font>**\n",
        "\n"
      ],
      "metadata": {
        "id": "RqcmK1bQbW5-"
      }
    },
    {
      "cell_type": "markdown",
      "source": [
        "One potential issue is the **'Item_Fat_Content'** column, which has values **'Low Fat'**, **'LF'**, **'low fat'** that all represent the same thing, and values 'Regular', 'reg' that also represent the same thing. We can fix this using the replace method:"
      ],
      "metadata": {
        "id": "Pws-tt_hbfb2"
      }
    },
    {
      "cell_type": "code",
      "source": [
        "df['Item_Fat_Content'].replace(['LF', 'low fat'], 'Low Fat', inplace=True)\n",
        "df['Item_Fat_Content'].replace('reg', 'Regular', inplace=True)"
      ],
      "metadata": {
        "id": "ex4XrhlKcO6T"
      },
      "execution_count": null,
      "outputs": []
    },
    {
      "cell_type": "markdown",
      "source": [
        "- **<font color='#ffd966'>More Inconcistencies:</font>**\n",
        "1. The Item_Weight column has missing values.\n",
        "\n",
        "2. The Outlet_Size column also has missing values.\n",
        "\n",
        "3. The Item_Visibility column has a value of 0, which doesn't make sense since no product can have zero visibility."
      ],
      "metadata": {
        "id": "BcaoRhMCeKIS"
      }
    },
    {
      "cell_type": "code",
      "source": [
        "# Replace zero value in Item_Visibility with mean visibility of the corresponding item\n",
        "item_visibility_mean = df.groupby('Item_Identifier')['Item_Visibility'].mean()\n",
        "missing_values = (df['Item_Visibility'] == 0)\n",
        "df.loc[missing_values,'Item_Visibility'] = df.loc[missing_values,'Item_Identifier'].apply(lambda x: item_visibility_mean[x])\n"
      ],
      "metadata": {
        "id": "_FfJUb2cegpP"
      },
      "execution_count": null,
      "outputs": []
    },
    {
      "cell_type": "markdown",
      "source": [
        "- **<font color='#ffd966'>Find NaNs:</font>**"
      ],
      "metadata": {
        "id": "ui3CuWOrfszH"
      }
    },
    {
      "cell_type": "code",
      "source": [
        "df.isnull().sum()"
      ],
      "metadata": {
        "colab": {
          "base_uri": "https://localhost:8080/"
        },
        "id": "ATy8W6XagA8X",
        "outputId": "8330fc83-bc92-4ac6-cab5-02a8b4bfda73"
      },
      "execution_count": null,
      "outputs": [
        {
          "output_type": "execute_result",
          "data": {
            "text/plain": [
              "Item_Identifier                 0\n",
              "Item_Weight                  1463\n",
              "Item_Fat_Content                0\n",
              "Item_Visibility                 0\n",
              "Item_Type                       0\n",
              "Item_MRP                        0\n",
              "Outlet_Identifier               0\n",
              "Outlet_Establishment_Year       0\n",
              "Outlet_Size                  2410\n",
              "Outlet_Location_Type            0\n",
              "Outlet_Type                     0\n",
              "Item_Outlet_Sales               0\n",
              "dtype: int64"
            ]
          },
          "metadata": {},
          "execution_count": 5
        }
      ]
    },
    {
      "cell_type": "markdown",
      "source": [
        "- **<font color='#ffd966'>Handle NaNs:</font>**"
      ],
      "metadata": {
        "id": "50onBwMIkisK"
      }
    },
    {
      "cell_type": "code",
      "source": [
        "# Fill missing values in Item_Weight with mean weight of the corresponding item\n",
        "item_weight_mean = df.groupby('Item_Identifier')['Item_Weight'].mean()\n",
        "df['Item_Weight'].fillna(df['Item_Identifier'].apply(lambda x: item_weight_mean[x]), inplace=True)\n",
        "\n",
        "# Fill missing values in Outlet_Size with mode of Outlet_Size\n",
        "outlet_size_mode = df.pivot_table(values='Outlet_Size', columns='Outlet_Type', aggfunc=(lambda x: x.mode()[0]))\n",
        "missing_values = df['Outlet_Size'].isnull()\n",
        "df.loc[missing_values,'Outlet_Size'] = df.loc[missing_values,'Outlet_Type'].apply(lambda x: outlet_size_mode[x])\n",
        "\n",
        "# Handle missing values\n",
        "df['Item_Weight'].fillna(df['Item_Weight'].mean(), inplace=True)\n",
        "df['Outlet_Size'].fillna('Unknown', inplace=True)\n",
        "df = df[df['Item_Visibility'] > 0]"
      ],
      "metadata": {
        "id": "tqL-v4evfw7s"
      },
      "execution_count": null,
      "outputs": []
    },
    {
      "cell_type": "code",
      "source": [
        "df.isnull().sum()"
      ],
      "metadata": {
        "colab": {
          "base_uri": "https://localhost:8080/"
        },
        "id": "Ni09xIA7kNBD",
        "outputId": "296f4eb5-dd9b-4c9d-dcf3-77245b4737d1"
      },
      "execution_count": null,
      "outputs": [
        {
          "output_type": "execute_result",
          "data": {
            "text/plain": [
              "Item_Identifier              0\n",
              "Item_Weight                  0\n",
              "Item_Fat_Content             0\n",
              "Item_Visibility              0\n",
              "Item_Type                    0\n",
              "Item_MRP                     0\n",
              "Outlet_Identifier            0\n",
              "Outlet_Establishment_Year    0\n",
              "Outlet_Size                  0\n",
              "Outlet_Location_Type         0\n",
              "Outlet_Type                  0\n",
              "Item_Outlet_Sales            0\n",
              "dtype: int64"
            ]
          },
          "metadata": {},
          "execution_count": 7
        }
      ]
    },
    {
      "cell_type": "markdown",
      "source": [
        "# **Prepare Data For ML**"
      ],
      "metadata": {
        "id": "Dxu_1OHrkrcG"
      }
    },
    {
      "cell_type": "code",
      "source": [
        "# Import necessary libraries\n",
        "import numpy as np\n",
        "from sklearn.model_selection import train_test_split\n",
        "from sklearn.impute import SimpleImputer\n",
        "from sklearn.preprocessing import OneHotEncoder, StandardScaler\n",
        "from sklearn.pipeline import Pipeline\n",
        "from sklearn.compose import ColumnTransformer\n",
        "\n",
        "from sklearn.tree import DecisionTreeRegressor\n",
        "from sklearn.linear_model import LinearRegression\n",
        "from sklearn.metrics import mean_squared_error, r2_score\n",
        "\n",
        "# Identify features (X) and target (y)\n",
        "X = df.drop('Item_Outlet_Sales', axis=1)\n",
        "y = df['Item_Outlet_Sales']\n",
        "\n",
        "# Perform a train test split\n",
        "X_train, X_test, y_train, y_test = train_test_split(X, y, test_size=0.3, random_state=42)\n",
        "\n",
        "\n",
        "# Define categorical and numerical transformers\n",
        "categorical_transformer = Pipeline(steps=[\n",
        "    ('imputer', SimpleImputer(strategy='most_frequent')),\n",
        "    ('onehot', OneHotEncoder(handle_unknown='ignore'))])\n",
        "\n",
        "# Numerical Transformer:\n",
        "numerical_transformer = Pipeline(steps=[\n",
        "    ('imputer', SimpleImputer(strategy='mean')),\n",
        "    ('scaler', StandardScaler())])\n",
        "\n",
        "# Identify categorical and numerical features\n",
        "categorical_features = X.select_dtypes(include=['object']).columns\n",
        "numerical_features = X.select_dtypes(include=['float64', 'int64']).columns\n",
        "\n",
        "# Preprocess the dataset using ColumnTransformer\n",
        "preprocessor = ColumnTransformer(\n",
        "    transformers=[\n",
        "        ('num', numerical_transformer, numerical_features),\n",
        "        ('cat', categorical_transformer, categorical_features)])"
      ],
      "metadata": {
        "id": "eAKvYXbTikpJ"
      },
      "execution_count": null,
      "outputs": []
    },
    {
      "cell_type": "markdown",
      "source": [
        "**Pipeline:**"
      ],
      "metadata": {
        "id": "ffAtyh6L1lqU"
      }
    },
    {
      "cell_type": "code",
      "source": [
        "# Define the pipeline\n",
        "pipeline = Pipeline(steps=[\n",
        "    ('preprocessor', preprocessor),\n",
        "    ('regressor', LinearRegression())])\n",
        "\n",
        "# Train the model and evaluate using both training and testing data\n",
        "pipeline.fit(X_train, y_train)\n",
        "train_preds = pipeline.predict(X_train)\n",
        "test_preds = pipeline.predict(X_test)"
      ],
      "metadata": {
        "id": "50xRPK4L1q6B"
      },
      "execution_count": null,
      "outputs": []
    },
    {
      "cell_type": "markdown",
      "source": [
        "(RMSE) Process:"
      ],
      "metadata": {
        "id": "TcqhFuZS2MZt"
      }
    },
    {
      "cell_type": "code",
      "source": [
        "# y_train:\n",
        "train_rmse = np.sqrt(mean_squared_error(y_train, train_preds))\n",
        "train_r2 = r2_score(y_train, train_preds)\n",
        "# y_test:\n",
        "test_rmse = np.sqrt(mean_squared_error(y_test, test_preds))\n",
        "test_r2 = r2_score(y_test, test_preds)"
      ],
      "metadata": {
        "id": "UkzvTMnp2XHc"
      },
      "execution_count": null,
      "outputs": []
    },
    {
      "cell_type": "markdown",
      "source": [
        "**Ouput:**"
      ],
      "metadata": {
        "id": "LRsl_dkX2o8s"
      }
    },
    {
      "cell_type": "code",
      "source": [
        "print(f'Training RMSE: {train_rmse:.2f}')\n",
        "print(f'Training R^2: {train_r2:.2f}')\n",
        "print(f'Testing RMSE: {test_rmse:.2f}')\n",
        "print(f'Testing R^2: {test_r2:.2f}')"
      ],
      "metadata": {
        "colab": {
          "base_uri": "https://localhost:8080/"
        },
        "id": "-o0anqVJ2sQa",
        "outputId": "af49f66c-a150-465f-d573-3379cf623def"
      },
      "execution_count": null,
      "outputs": [
        {
          "output_type": "stream",
          "name": "stdout",
          "text": [
            "Training RMSE: 980.53\n",
            "Training R^2: 0.67\n",
            "Testing RMSE: 1305.67\n",
            "Testing R^2: 0.39\n"
          ]
        }
      ]
    },
    {
      "cell_type": "markdown",
      "source": [
        "# **Final Part:**"
      ],
      "metadata": {
        "id": "j7o7fasxluta"
      }
    },
    {
      "cell_type": "markdown",
      "source": [
        "- - **<font color='#ffd966'>Decision Tree:</font>** It evaluates its performance based on r^2, and evaluate its performance based on rmse:"
      ],
      "metadata": {
        "id": "dS4DSu1SmI3w"
      }
    },
    {
      "cell_type": "code",
      "source": [
        "# Define the decision tree pipeline\n",
        "tree_pipeline = Pipeline(steps=[\n",
        "    ('preprocessor', preprocessor),\n",
        "    ('regressor', DecisionTreeRegressor(max_depth=5, random_state=42))])\n",
        "\n",
        "# Train the decision tree model and evaluate using both training and testing data\n",
        "tree_pipeline.fit(X_train, y_train)\n",
        "train_preds = tree_pipeline.predict(X_train)\n",
        "test_preds = tree_pipeline.predict(X_test)\n",
        "\n",
        "train_rmse = np.sqrt(mean_squared_error(y_train, train_preds))\n",
        "train_r2 = r2_score(y_train, train_preds)\n",
        "\n",
        "test_rmse = np.sqrt(mean_squared_error(y_test, test_preds))\n",
        "test_r2 = r2_score(y_test, test_preds)"
      ],
      "metadata": {
        "id": "GIuZtc7ul1Uc"
      },
      "execution_count": null,
      "outputs": []
    },
    {
      "cell_type": "markdown",
      "source": [
        "**Output:**"
      ],
      "metadata": {
        "id": "EmpO-EpY312O"
      }
    },
    {
      "cell_type": "code",
      "source": [
        "print(f'Training RMSE (Decision Tree): {train_rmse:.2f}')"
      ],
      "metadata": {
        "colab": {
          "base_uri": "https://localhost:8080/"
        },
        "id": "AEJy30jr35i5",
        "outputId": "08198f95-8a91-45df-da9a-e87464e7dd49"
      },
      "execution_count": null,
      "outputs": [
        {
          "output_type": "stream",
          "name": "stdout",
          "text": [
            "Training RMSE (Decision Tree): 1080.88\n"
          ]
        }
      ]
    },
    {
      "cell_type": "markdown",
      "source": [
        "- **<font color='#ffd966'>Regression Tree:</font>**"
      ],
      "metadata": {
        "id": "SimZgc-Dm0Ub"
      }
    },
    {
      "cell_type": "code",
      "source": [
        "from sklearn.tree import DecisionTreeRegressor\n",
        "\n",
        "# Fit model on training data\n",
        "rt = DecisionTreeRegressor(random_state=42)\n",
        "model = Pipeline(steps=[\n",
        "    ('preprocessor', preprocessor),\n",
        "    ('regressor', rt)\n",
        "])\n",
        "model.fit(X_train, y_train)\n",
        "\n",
        "# Evaluate r^2 on test data\n",
        "y_pred = model.predict(X_test)\n",
        "r2_rt = r2_score(y_test, y_pred)\n",
        "print(f\"r^2 score for regression tree: {r2_rt:.4f}\")\n",
        "\n",
        "# Evaluate RMSE on test data\n",
        "rmse_rt = mean_squared_error(y_test, y_pred, squared=False)\n",
        "print(f\"RMSE score for regression tree: {rmse_rt:.4f}\")\n"
      ],
      "metadata": {
        "colab": {
          "base_uri": "https://localhost:8080/"
        },
        "id": "8R1-AUHEmYVx",
        "outputId": "f5948616-8904-461f-e708-53451cd7ded5"
      },
      "execution_count": null,
      "outputs": [
        {
          "output_type": "stream",
          "name": "stdout",
          "text": [
            "r^2 score for regression tree: 0.2453\n",
            "RMSE score for regression tree: 1453.8887\n"
          ]
        }
      ]
    },
    {
      "cell_type": "markdown",
      "source": [
        "- **Finally**, to determine which model to implement, we can compare the 'r^2' and 'rmse' scores of both models. In general, a higher 'r^2' score and a lower 'rmse' score indicate a better model."
      ],
      "metadata": {
        "id": "PRGl6Ui8m_V-"
      }
    },
    {
      "cell_type": "markdown",
      "source": [
        "#**Final Descision**"
      ],
      "metadata": {
        "id": "DtPEqE8TnkUv"
      }
    },
    {
      "cell_type": "markdown",
      "source": [
        "Based on the results obtained from the above code, we can see that the Decision Tree model has a higher r^2 score and a lower rmse score compared to the regression tree model. Therefore, we can recommend using the Decition Tree model for this dataset. However, it is always a good practice to try out multiple models and evaluate their performance before making a final decision."
      ],
      "metadata": {
        "id": "b67uFFrUnVA7"
      }
    }
  ]
}