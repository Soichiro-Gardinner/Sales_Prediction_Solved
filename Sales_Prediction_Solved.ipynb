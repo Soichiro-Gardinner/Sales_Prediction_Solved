{
  "nbformat": 4,
  "nbformat_minor": 0,
  "metadata": {
    "colab": {
      "provenance": [],
      "authorship_tag": "ABX9TyO+9icdlaTrzrB3HeCYPoT3",
      "include_colab_link": true
    },
    "kernelspec": {
      "name": "python3",
      "display_name": "Python 3"
    },
    "language_info": {
      "name": "python"
    }
  },
  "cells": [
    {
      "cell_type": "markdown",
      "metadata": {
        "id": "view-in-github",
        "colab_type": "text"
      },
      "source": [
        "<a href=\"https://colab.research.google.com/github/Soichiro-Gardinner/Sales_Prediction_Solved/blob/main/Sales_Prediction_Solved.ipynb\" target=\"_parent\"><img src=\"https://colab.research.google.com/assets/colab-badge.svg\" alt=\"Open In Colab\"/></a>"
      ]
    },
    {
      "cell_type": "markdown",
      "source": [
        "# **_ _ Sales Prediction_ _**\n",
        "\n",
        "- **By:** Oscar Castanaza\n",
        "- **Date:** 4/13/2023"
      ],
      "metadata": {
        "id": "UYo6PJl7oTF_"
      }
    },
    {
      "cell_type": "markdown",
      "source": [
        "# **Import Libs & Read Data:**"
      ],
      "metadata": {
        "id": "-QWhL_pGa6Cr"
      }
    },
    {
      "cell_type": "code",
      "execution_count": 1,
      "metadata": {
        "colab": {
          "base_uri": "https://localhost:8080/",
          "height": 357
        },
        "id": "61Enk3yraijs",
        "outputId": "f1965dad-54cc-4446-97ab-295cfed2d419"
      },
      "outputs": [
        {
          "output_type": "display_data",
          "data": {
            "text/plain": [
              "  Item_Identifier  Item_Weight Item_Fat_Content  Item_Visibility  \\\n",
              "0           FDA15         9.30          Low Fat         0.016047   \n",
              "1           DRC01         5.92          Regular         0.019278   \n",
              "2           FDN15        17.50          Low Fat         0.016760   \n",
              "3           FDX07        19.20          Regular         0.000000   \n",
              "4           NCD19         8.93          Low Fat         0.000000   \n",
              "\n",
              "               Item_Type  Item_MRP Outlet_Identifier  \\\n",
              "0                  Dairy  249.8092            OUT049   \n",
              "1            Soft Drinks   48.2692            OUT018   \n",
              "2                   Meat  141.6180            OUT049   \n",
              "3  Fruits and Vegetables  182.0950            OUT010   \n",
              "4              Household   53.8614            OUT013   \n",
              "\n",
              "   Outlet_Establishment_Year Outlet_Size Outlet_Location_Type  \\\n",
              "0                       1999      Medium               Tier 1   \n",
              "1                       2009      Medium               Tier 3   \n",
              "2                       1999      Medium               Tier 1   \n",
              "3                       1998         NaN               Tier 3   \n",
              "4                       1987        High               Tier 3   \n",
              "\n",
              "         Outlet_Type  Item_Outlet_Sales  \n",
              "0  Supermarket Type1          3735.1380  \n",
              "1  Supermarket Type2           443.4228  \n",
              "2  Supermarket Type1          2097.2700  \n",
              "3      Grocery Store           732.3800  \n",
              "4  Supermarket Type1           994.7052  "
            ],
            "text/html": [
              "\n",
              "  <div id=\"df-acee9685-e1f6-4b94-8352-cc5cdefcbae5\">\n",
              "    <div class=\"colab-df-container\">\n",
              "      <div>\n",
              "<style scoped>\n",
              "    .dataframe tbody tr th:only-of-type {\n",
              "        vertical-align: middle;\n",
              "    }\n",
              "\n",
              "    .dataframe tbody tr th {\n",
              "        vertical-align: top;\n",
              "    }\n",
              "\n",
              "    .dataframe thead th {\n",
              "        text-align: right;\n",
              "    }\n",
              "</style>\n",
              "<table border=\"1\" class=\"dataframe\">\n",
              "  <thead>\n",
              "    <tr style=\"text-align: right;\">\n",
              "      <th></th>\n",
              "      <th>Item_Identifier</th>\n",
              "      <th>Item_Weight</th>\n",
              "      <th>Item_Fat_Content</th>\n",
              "      <th>Item_Visibility</th>\n",
              "      <th>Item_Type</th>\n",
              "      <th>Item_MRP</th>\n",
              "      <th>Outlet_Identifier</th>\n",
              "      <th>Outlet_Establishment_Year</th>\n",
              "      <th>Outlet_Size</th>\n",
              "      <th>Outlet_Location_Type</th>\n",
              "      <th>Outlet_Type</th>\n",
              "      <th>Item_Outlet_Sales</th>\n",
              "    </tr>\n",
              "  </thead>\n",
              "  <tbody>\n",
              "    <tr>\n",
              "      <th>0</th>\n",
              "      <td>FDA15</td>\n",
              "      <td>9.30</td>\n",
              "      <td>Low Fat</td>\n",
              "      <td>0.016047</td>\n",
              "      <td>Dairy</td>\n",
              "      <td>249.8092</td>\n",
              "      <td>OUT049</td>\n",
              "      <td>1999</td>\n",
              "      <td>Medium</td>\n",
              "      <td>Tier 1</td>\n",
              "      <td>Supermarket Type1</td>\n",
              "      <td>3735.1380</td>\n",
              "    </tr>\n",
              "    <tr>\n",
              "      <th>1</th>\n",
              "      <td>DRC01</td>\n",
              "      <td>5.92</td>\n",
              "      <td>Regular</td>\n",
              "      <td>0.019278</td>\n",
              "      <td>Soft Drinks</td>\n",
              "      <td>48.2692</td>\n",
              "      <td>OUT018</td>\n",
              "      <td>2009</td>\n",
              "      <td>Medium</td>\n",
              "      <td>Tier 3</td>\n",
              "      <td>Supermarket Type2</td>\n",
              "      <td>443.4228</td>\n",
              "    </tr>\n",
              "    <tr>\n",
              "      <th>2</th>\n",
              "      <td>FDN15</td>\n",
              "      <td>17.50</td>\n",
              "      <td>Low Fat</td>\n",
              "      <td>0.016760</td>\n",
              "      <td>Meat</td>\n",
              "      <td>141.6180</td>\n",
              "      <td>OUT049</td>\n",
              "      <td>1999</td>\n",
              "      <td>Medium</td>\n",
              "      <td>Tier 1</td>\n",
              "      <td>Supermarket Type1</td>\n",
              "      <td>2097.2700</td>\n",
              "    </tr>\n",
              "    <tr>\n",
              "      <th>3</th>\n",
              "      <td>FDX07</td>\n",
              "      <td>19.20</td>\n",
              "      <td>Regular</td>\n",
              "      <td>0.000000</td>\n",
              "      <td>Fruits and Vegetables</td>\n",
              "      <td>182.0950</td>\n",
              "      <td>OUT010</td>\n",
              "      <td>1998</td>\n",
              "      <td>NaN</td>\n",
              "      <td>Tier 3</td>\n",
              "      <td>Grocery Store</td>\n",
              "      <td>732.3800</td>\n",
              "    </tr>\n",
              "    <tr>\n",
              "      <th>4</th>\n",
              "      <td>NCD19</td>\n",
              "      <td>8.93</td>\n",
              "      <td>Low Fat</td>\n",
              "      <td>0.000000</td>\n",
              "      <td>Household</td>\n",
              "      <td>53.8614</td>\n",
              "      <td>OUT013</td>\n",
              "      <td>1987</td>\n",
              "      <td>High</td>\n",
              "      <td>Tier 3</td>\n",
              "      <td>Supermarket Type1</td>\n",
              "      <td>994.7052</td>\n",
              "    </tr>\n",
              "  </tbody>\n",
              "</table>\n",
              "</div>\n",
              "      <button class=\"colab-df-convert\" onclick=\"convertToInteractive('df-acee9685-e1f6-4b94-8352-cc5cdefcbae5')\"\n",
              "              title=\"Convert this dataframe to an interactive table.\"\n",
              "              style=\"display:none;\">\n",
              "        \n",
              "  <svg xmlns=\"http://www.w3.org/2000/svg\" height=\"24px\"viewBox=\"0 0 24 24\"\n",
              "       width=\"24px\">\n",
              "    <path d=\"M0 0h24v24H0V0z\" fill=\"none\"/>\n",
              "    <path d=\"M18.56 5.44l.94 2.06.94-2.06 2.06-.94-2.06-.94-.94-2.06-.94 2.06-2.06.94zm-11 1L8.5 8.5l.94-2.06 2.06-.94-2.06-.94L8.5 2.5l-.94 2.06-2.06.94zm10 10l.94 2.06.94-2.06 2.06-.94-2.06-.94-.94-2.06-.94 2.06-2.06.94z\"/><path d=\"M17.41 7.96l-1.37-1.37c-.4-.4-.92-.59-1.43-.59-.52 0-1.04.2-1.43.59L10.3 9.45l-7.72 7.72c-.78.78-.78 2.05 0 2.83L4 21.41c.39.39.9.59 1.41.59.51 0 1.02-.2 1.41-.59l7.78-7.78 2.81-2.81c.8-.78.8-2.07 0-2.86zM5.41 20L4 18.59l7.72-7.72 1.47 1.35L5.41 20z\"/>\n",
              "  </svg>\n",
              "      </button>\n",
              "      \n",
              "  <style>\n",
              "    .colab-df-container {\n",
              "      display:flex;\n",
              "      flex-wrap:wrap;\n",
              "      gap: 12px;\n",
              "    }\n",
              "\n",
              "    .colab-df-convert {\n",
              "      background-color: #E8F0FE;\n",
              "      border: none;\n",
              "      border-radius: 50%;\n",
              "      cursor: pointer;\n",
              "      display: none;\n",
              "      fill: #1967D2;\n",
              "      height: 32px;\n",
              "      padding: 0 0 0 0;\n",
              "      width: 32px;\n",
              "    }\n",
              "\n",
              "    .colab-df-convert:hover {\n",
              "      background-color: #E2EBFA;\n",
              "      box-shadow: 0px 1px 2px rgba(60, 64, 67, 0.3), 0px 1px 3px 1px rgba(60, 64, 67, 0.15);\n",
              "      fill: #174EA6;\n",
              "    }\n",
              "\n",
              "    [theme=dark] .colab-df-convert {\n",
              "      background-color: #3B4455;\n",
              "      fill: #D2E3FC;\n",
              "    }\n",
              "\n",
              "    [theme=dark] .colab-df-convert:hover {\n",
              "      background-color: #434B5C;\n",
              "      box-shadow: 0px 1px 3px 1px rgba(0, 0, 0, 0.15);\n",
              "      filter: drop-shadow(0px 1px 2px rgba(0, 0, 0, 0.3));\n",
              "      fill: #FFFFFF;\n",
              "    }\n",
              "  </style>\n",
              "\n",
              "      <script>\n",
              "        const buttonEl =\n",
              "          document.querySelector('#df-acee9685-e1f6-4b94-8352-cc5cdefcbae5 button.colab-df-convert');\n",
              "        buttonEl.style.display =\n",
              "          google.colab.kernel.accessAllowed ? 'block' : 'none';\n",
              "\n",
              "        async function convertToInteractive(key) {\n",
              "          const element = document.querySelector('#df-acee9685-e1f6-4b94-8352-cc5cdefcbae5');\n",
              "          const dataTable =\n",
              "            await google.colab.kernel.invokeFunction('convertToInteractive',\n",
              "                                                     [key], {});\n",
              "          if (!dataTable) return;\n",
              "\n",
              "          const docLinkHtml = 'Like what you see? Visit the ' +\n",
              "            '<a target=\"_blank\" href=https://colab.research.google.com/notebooks/data_table.ipynb>data table notebook</a>'\n",
              "            + ' to learn more about interactive tables.';\n",
              "          element.innerHTML = '';\n",
              "          dataTable['output_type'] = 'display_data';\n",
              "          await google.colab.output.renderOutput(dataTable, element);\n",
              "          const docLink = document.createElement('div');\n",
              "          docLink.innerHTML = docLinkHtml;\n",
              "          element.appendChild(docLink);\n",
              "        }\n",
              "      </script>\n",
              "    </div>\n",
              "  </div>\n",
              "  "
            ]
          },
          "metadata": {}
        }
      ],
      "source": [
        "import pandas as pd\n",
        "\n",
        "# read in the data from CSV file\n",
        "df = pd.read_csv('https://drive.google.com/uc?id=1syH81TVrbBsdymLT_jl2JIf6IjPXtSQw')\n",
        "\n",
        "# display the first 5 rows\n",
        "display(df.head())"
      ]
    },
    {
      "cell_type": "markdown",
      "source": [
        "- **<font color='#ffd966'>Duplicates:</font>**"
      ],
      "metadata": {
        "id": "VhpisnYDbKcK"
      }
    },
    {
      "cell_type": "code",
      "source": [
        "print(df.duplicated().sum())"
      ],
      "metadata": {
        "colab": {
          "base_uri": "https://localhost:8080/"
        },
        "id": "VkV9FHD5bJIk",
        "outputId": "134fda10-1d06-47a1-85aa-e86fd0b1d575"
      },
      "execution_count": 2,
      "outputs": [
        {
          "output_type": "stream",
          "name": "stdout",
          "text": [
            "0\n"
          ]
        }
      ]
    },
    {
      "cell_type": "markdown",
      "source": [
        "- **<font color='#ffd966'>Inconcistencies:</font>**\n",
        "\n"
      ],
      "metadata": {
        "id": "RqcmK1bQbW5-"
      }
    },
    {
      "cell_type": "markdown",
      "source": [
        "One potential issue is the **'Item_Fat_Content'** column, which has values **'Low Fat'**, **'LF'**, **'low fat'** that all represent the same thing, and values 'Regular', 'reg' that also represent the same thing. We can fix this using the replace method:"
      ],
      "metadata": {
        "id": "Pws-tt_hbfb2"
      }
    },
    {
      "cell_type": "code",
      "source": [
        "df['Item_Fat_Content'].replace(['LF', 'low fat'], 'Low Fat', inplace=True)\n",
        "df['Item_Fat_Content'].replace('reg', 'Regular', inplace=True)"
      ],
      "metadata": {
        "id": "ex4XrhlKcO6T"
      },
      "execution_count": 3,
      "outputs": []
    },
    {
      "cell_type": "markdown",
      "source": [
        "- **<font color='#ffd966'>More Inconcistencies:</font>**\n",
        "1. The Item_Weight column has missing values.\n",
        "\n",
        "2. The Outlet_Size column also has missing values.\n",
        "\n",
        "3. The Item_Visibility column has a value of 0, which doesn't make sense since no product can have zero visibility."
      ],
      "metadata": {
        "id": "BcaoRhMCeKIS"
      }
    },
    {
      "cell_type": "code",
      "source": [
        "# Replace zero value in Item_Visibility with mean visibility of the corresponding item\n",
        "item_visibility_mean = df.groupby('Item_Identifier')['Item_Visibility'].mean()\n",
        "missing_values = (df['Item_Visibility'] == 0)\n",
        "df.loc[missing_values,'Item_Visibility'] = df.loc[missing_values,'Item_Identifier'].apply(lambda x: item_visibility_mean[x])\n"
      ],
      "metadata": {
        "id": "_FfJUb2cegpP"
      },
      "execution_count": 4,
      "outputs": []
    },
    {
      "cell_type": "markdown",
      "source": [
        "- **<font color='#ffd966'>Find NaNs:</font>**"
      ],
      "metadata": {
        "id": "ui3CuWOrfszH"
      }
    },
    {
      "cell_type": "code",
      "source": [
        "df.isnull().sum()"
      ],
      "metadata": {
        "colab": {
          "base_uri": "https://localhost:8080/"
        },
        "id": "ATy8W6XagA8X",
        "outputId": "12ac5823-46ab-4395-a25c-d20bbc9b211a"
      },
      "execution_count": 5,
      "outputs": [
        {
          "output_type": "execute_result",
          "data": {
            "text/plain": [
              "Item_Identifier                 0\n",
              "Item_Weight                  1463\n",
              "Item_Fat_Content                0\n",
              "Item_Visibility                 0\n",
              "Item_Type                       0\n",
              "Item_MRP                        0\n",
              "Outlet_Identifier               0\n",
              "Outlet_Establishment_Year       0\n",
              "Outlet_Size                  2410\n",
              "Outlet_Location_Type            0\n",
              "Outlet_Type                     0\n",
              "Item_Outlet_Sales               0\n",
              "dtype: int64"
            ]
          },
          "metadata": {},
          "execution_count": 5
        }
      ]
    },
    {
      "cell_type": "markdown",
      "source": [
        "# **Prepare Data For ML**"
      ],
      "metadata": {
        "id": "Dxu_1OHrkrcG"
      }
    },
    {
      "cell_type": "code",
      "source": [
        "# Import necessary libraries\n",
        "import numpy as np\n",
        "from sklearn.model_selection import train_test_split\n",
        "from sklearn.impute import SimpleImputer\n",
        "from sklearn.preprocessing import OneHotEncoder, StandardScaler\n",
        "from sklearn.pipeline import Pipeline\n",
        "from sklearn.compose import ColumnTransformer\n",
        "\n",
        "from sklearn.tree import DecisionTreeRegressor\n",
        "from sklearn.linear_model import LinearRegression\n",
        "from sklearn.metrics import mean_squared_error, r2_score\n",
        "\n",
        "# Identify features (X) and target (y)\n",
        "X = df.drop('Item_Outlet_Sales', axis=1)\n",
        "y = df['Item_Outlet_Sales']\n",
        "\n",
        "# Perform a train test split\n",
        "X_train, X_test, y_train, y_test = train_test_split(X, y, test_size=0.3, random_state=42)"
      ],
      "metadata": {
        "id": "eAKvYXbTikpJ"
      },
      "execution_count": 6,
      "outputs": []
    },
    {
      "cell_type": "markdown",
      "source": [
        "- **<font color='#ffd966'>Imputers & Transformers:</font>**"
      ],
      "metadata": {
        "id": "PvP559mtMMwo"
      }
    },
    {
      "cell_type": "code",
      "source": [
        "# Define categorical and numerical transformers\n",
        "categorical_transformer = Pipeline(steps=[\n",
        "    ('imputer', SimpleImputer(strategy='most_frequent')),\n",
        "    ('onehot', OneHotEncoder(handle_unknown='ignore'))])\n",
        "\n",
        "# Numerical Transformer:\n",
        "numerical_transformer = Pipeline(steps=[\n",
        "    ('imputer', SimpleImputer(strategy='mean')),\n",
        "    ('scaler', StandardScaler())])\n",
        "\n",
        "# Identify categorical and numerical features\n",
        "categorical_features = X.select_dtypes(include=['object']).columns\n",
        "numerical_features = X.select_dtypes(include=['float64', 'int64']).columns\n",
        "\n",
        "# Preprocess the dataset using ColumnTransformer\n",
        "preprocessor = ColumnTransformer(\n",
        "    transformers=[\n",
        "        ('num', numerical_transformer, numerical_features),\n",
        "        ('cat', categorical_transformer, categorical_features)])\n",
        "\n",
        "#X_train_transformed = preprocessor.fit_transform(X_train)\n",
        "#X_test_transformed = preprocessor.transform(X_test)"
      ],
      "metadata": {
        "id": "qp6rHWolMMTd"
      },
      "execution_count": 7,
      "outputs": []
    },
    {
      "cell_type": "markdown",
      "source": [
        "**Pipeline:**"
      ],
      "metadata": {
        "id": "ffAtyh6L1lqU"
      }
    },
    {
      "cell_type": "code",
      "source": [
        "# Define the pipeline\n",
        "pipeline = Pipeline(steps=[\n",
        "    ('preprocessor', preprocessor),\n",
        "    ('regressor', LinearRegression())])\n",
        "\n",
        "# Train the model and evaluate using both training and testing data\n",
        "pipeline.fit(X_train, y_train)\n",
        "train_preds = pipeline.predict(X_train)\n",
        "test_preds = pipeline.predict(X_test)"
      ],
      "metadata": {
        "id": "50xRPK4L1q6B"
      },
      "execution_count": 8,
      "outputs": []
    },
    {
      "cell_type": "markdown",
      "source": [
        "(RMSE) Process:"
      ],
      "metadata": {
        "id": "TcqhFuZS2MZt"
      }
    },
    {
      "cell_type": "code",
      "source": [
        "# y_train:\n",
        "train_rmse = np.sqrt(mean_squared_error(y_train, train_preds))\n",
        "train_r2 = r2_score(y_train, train_preds)\n",
        "# y_test:\n",
        "test_rmse = np.sqrt(mean_squared_error(y_test, test_preds))\n",
        "test_r2 = r2_score(y_test, test_preds)"
      ],
      "metadata": {
        "id": "UkzvTMnp2XHc"
      },
      "execution_count": 9,
      "outputs": []
    },
    {
      "cell_type": "markdown",
      "source": [
        "**Ouput:**"
      ],
      "metadata": {
        "id": "LRsl_dkX2o8s"
      }
    },
    {
      "cell_type": "code",
      "source": [
        "print(f'Training RMSE: {train_rmse:.2f}')\n",
        "print(f'Training R^2: {train_r2:.2f}')\n",
        "print(f'Testing RMSE: {test_rmse:.2f}')\n",
        "print(f'Testing R^2: {test_r2:.2f}')"
      ],
      "metadata": {
        "colab": {
          "base_uri": "https://localhost:8080/"
        },
        "id": "-o0anqVJ2sQa",
        "outputId": "906a3ade-1816-40c7-ed61-a930f8ac44ac"
      },
      "execution_count": 10,
      "outputs": [
        {
          "output_type": "stream",
          "name": "stdout",
          "text": [
            "Training RMSE: 980.50\n",
            "Training R^2: 0.67\n",
            "Testing RMSE: 1306.38\n",
            "Testing R^2: 0.39\n"
          ]
        }
      ]
    },
    {
      "cell_type": "markdown",
      "source": [
        "# **Final Part:**"
      ],
      "metadata": {
        "id": "j7o7fasxluta"
      }
    },
    {
      "cell_type": "markdown",
      "source": [
        "- - **<font color='#ffd966'>Decision Tree:</font>** It evaluates its performance based on r^2, and evaluate its performance based on rmse:"
      ],
      "metadata": {
        "id": "dS4DSu1SmI3w"
      }
    },
    {
      "cell_type": "code",
      "source": [
        "# Define the decision tree pipeline\n",
        "tree_pipeline = Pipeline(steps=[\n",
        "    ('preprocessor', preprocessor),\n",
        "    ('regressor', DecisionTreeRegressor(max_depth=5, random_state=42))])\n",
        "\n",
        "# Train the decision tree model and evaluate using both training and testing data\n",
        "tree_pipeline.fit(X_train, y_train)\n",
        "train_preds = tree_pipeline.predict(X_train)\n",
        "test_preds = tree_pipeline.predict(X_test)\n",
        "\n",
        "train_rmse = np.sqrt(mean_squared_error(y_train, train_preds))\n",
        "train_r2 = r2_score(y_train, train_preds)\n",
        "\n",
        "test_rmse = np.sqrt(mean_squared_error(y_test, test_preds))\n",
        "test_r2 = r2_score(y_test, test_preds)"
      ],
      "metadata": {
        "id": "GIuZtc7ul1Uc"
      },
      "execution_count": 11,
      "outputs": []
    },
    {
      "cell_type": "markdown",
      "source": [
        "**Output:**"
      ],
      "metadata": {
        "id": "EmpO-EpY312O"
      }
    },
    {
      "cell_type": "code",
      "source": [
        "print(f'Training RMSE (Decision Tree): {train_rmse:.2f}')"
      ],
      "metadata": {
        "colab": {
          "base_uri": "https://localhost:8080/"
        },
        "id": "AEJy30jr35i5",
        "outputId": "03beb400-0237-4083-c840-544134e2b161"
      },
      "execution_count": 12,
      "outputs": [
        {
          "output_type": "stream",
          "name": "stdout",
          "text": [
            "Training RMSE (Decision Tree): 1080.88\n"
          ]
        }
      ]
    },
    {
      "cell_type": "markdown",
      "source": [
        "- **<font color='#ffd966'>Regression Tree:</font>**"
      ],
      "metadata": {
        "id": "SimZgc-Dm0Ub"
      }
    },
    {
      "cell_type": "code",
      "source": [
        "from sklearn.tree import DecisionTreeRegressor\n",
        "from sklearn.model_selection import GridSearchCV\n",
        "\n",
        "# Fit and evaluate decision tree with max_depth = 5 on training data\n",
        "rt = DecisionTreeRegressor(max_depth=5, random_state=42)\n",
        "model_train = Pipeline(steps=[\n",
        "    ('preprocessor', preprocessor),\n",
        "    ('regressor', rt)\n",
        "])\n",
        "model_train.fit(X_train, y_train)\n",
        "\n",
        "# Tune decision tree hyperparameters using GridSearchCV\n",
        "params = {'regressor__max_depth': [2, 5, 10, None],\n",
        "          'regressor__min_samples_split': [2, 5, 10]}\n",
        "grid_search = GridSearchCV(model_train, params, cv=5, n_jobs=-1)\n",
        "grid_search.fit(X_train, y_train)\n",
        "\n",
        "# Print best hyperparameters and corresponding r^2 score\n",
        "best_params = grid_search.best_params_\n",
        "print(f\"Best hyperparameters: {best_params}\")\n",
        "\n",
        "best_model = grid_search.best_estimator_\n",
        "y_train_pred = best_model.predict(X_train)\n",
        "r2_train = r2_score(y_train, y_train_pred)\n",
        "print(f\"r^2 score for decision tree on training data with best hyperparameters: {r2_train:.4f}\")\n",
        "\n",
        "y_test_pred = best_model.predict(X_test)\n",
        "r2_test = r2_score(y_test, y_test_pred)\n",
        "print(f\"r^2 score for decision tree on testing data with best hyperparameters: {r2_test:.4f}\")\n",
        "\n",
        "# Fit and evaluate decision tree with no max_depth on testing data\n",
        "rt = DecisionTreeRegressor(random_state=42)\n",
        "model_test = Pipeline(steps=[\n",
        "    ('preprocessor', preprocessor),\n",
        "    ('regressor', rt)\n",
        "])\n",
        "model_test.fit(X_train, y_train)\n",
        "\n",
        "y_train_pred = model_test.predict(X_train)\n",
        "r2_train = r2_score(y_train, y_train_pred)\n",
        "print(f\"\\n r^2 score for regression tree with no max_depth on training data: {r2_train:.4f}\")\n",
        "\n",
        "y_test_pred = model_test.predict(X_test)\n",
        "r2_test = r2_score(y_test, y_test_pred)\n",
        "print(f\"r^2 score for regression tree with no max_depth on testing data: {r2_test:.4f}\")"
      ],
      "metadata": {
        "colab": {
          "base_uri": "https://localhost:8080/"
        },
        "id": "e4pBtd4hTIL1",
        "outputId": "86478938-9887-4a9a-b767-8515973dec69"
      },
      "execution_count": 13,
      "outputs": [
        {
          "output_type": "stream",
          "name": "stdout",
          "text": [
            "Best hyperparameters: {'regressor__max_depth': 5, 'regressor__min_samples_split': 2}\n",
            "r^2 score for decision tree on training data with best hyperparameters: 0.6050\n",
            "r^2 score for decision tree on testing data with best hyperparameters: 0.5963\n",
            "\n",
            " r^2 score for regression tree with no max_depth on training data: 1.0000\n",
            "r^2 score for regression tree with no max_depth on testing data: 0.2463\n"
          ]
        }
      ]
    },
    {
      "cell_type": "markdown",
      "source": [
        "- **Finally**, to determine which model to implement, we can compare the 'r^2' and 'rmse' scores of both models. In general, a higher 'r^2' score and a lower 'rmse' score indicate a better model."
      ],
      "metadata": {
        "id": "PRGl6Ui8m_V-"
      }
    },
    {
      "cell_type": "markdown",
      "source": [
        "#**Final Descision**"
      ],
      "metadata": {
        "id": "DtPEqE8TnkUv"
      }
    },
    {
      "cell_type": "markdown",
      "source": [
        "Based on the results obtained from the above code, we can see that the Decision Tree model has a higher r^2 score and a lower rmse score compared to the regression tree model. Therefore, we can recommend using the Decition Tree model for this dataset. However, it is always a good practice to try out multiple models and evaluate their performance before making a final decision."
      ],
      "metadata": {
        "id": "b67uFFrUnVA7"
      }
    }
  ]
}